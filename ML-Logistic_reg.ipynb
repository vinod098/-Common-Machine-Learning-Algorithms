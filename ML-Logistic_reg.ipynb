{
 "cells": [
  {
   "cell_type": "code",
   "execution_count": 1,
   "metadata": {},
   "outputs": [],
   "source": [
    "    #classification using LogisticRegression\n",
    "import pandas as pd\n",
    "import numpy as np\n",
    "import matplotlib.pyplot as plt\n",
    "from sklearn import datasets,linear_model\n"
   ]
  },
  {
   "cell_type": "code",
   "execution_count": 2,
   "metadata": {},
   "outputs": [],
   "source": [
    "df=datasets.load_iris()   \n",
    "df_x=df['data']"
   ]
  },
  {
   "cell_type": "code",
   "execution_count": 3,
   "metadata": {},
   "outputs": [],
   "source": [
    "x=df[\"data\"][:,3:]         # here we are taking only 3rd column(petal width) of all row .\n",
    "y=(df['target']==2).astype(np.int)  # if label is Virginica(means label=2) then (.astype(np.int)) return us 1 else 0 .   \n"
   ]
  },
  {
   "cell_type": "code",
   "execution_count": 4,
   "metadata": {},
   "outputs": [
    {
     "name": "stdout",
     "output_type": "stream",
     "text": [
      "Virginica\n"
     ]
    }
   ],
   "source": [
    "model=linear_model.LogisticRegression()\n",
    "model.fit(x,y)\n",
    "pred=model.predict([[2.5]])  #if slicing remove then here we will have to give all four length(sepal length, sepal width,petal length, petal width).\n",
    "if(pred):\n",
    "   print(\"Virginica\")\n",
    "else:\n",
    "     print(\"Not Virginica\")"
   ]
  },
  {
   "cell_type": "code",
   "execution_count": 6,
   "metadata": {},
   "outputs": [
    {
     "data": {
      "image/png": "[encoded data removed]",
      "text/plain": [
       "<Figure size 432x288 with 1 Axes>"
      ]
     },
     "metadata": {
      "needs_background": "light"
     },
     "output_type": "display_data"
    }
   ],
   "source": [
    "    #visualization of LogisticRegression\n",
    "    \n",
    "x_new=np.linspace(0,3,1000).reshape(-1,1)        # 1000 point between 0 and 3\n",
    "y_prob=model.predict_proba(x_new)                #(.predict_proba) gives probablity of every prediction. \n",
    "plt.plot(x_new,y_prob[:,1],\"g-\")\n",
    "plt.show()"
   ]
  },
  {
   "cell_type": "code",
   "execution_count": null,
   "metadata": {},
   "outputs": [],
   "source": []
  }
 ],
 "metadata": {
  "kernelspec": {
   "display_name": "Python 3",
   "language": "python",
   "name": "python3"
  },
  "language_info": {
   "codemirror_mode": {
    "name": "ipython",
    "version": 3
   },
   "file_extension": ".py",
   "mimetype": "text/x-python",
   "name": "python",
   "nbconvert_exporter": "python",
   "pygments_lexer": "ipython3",
   "version": "3.8.3"
  }
 },
 "nbformat": 4,
 "nbformat_minor": 4
}
